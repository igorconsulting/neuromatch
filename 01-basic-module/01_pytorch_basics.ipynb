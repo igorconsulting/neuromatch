{
 "cells": [
  {
   "cell_type": "markdown",
   "metadata": {},
   "source": [
    "# PyTorch Basics\n",
    "\n",
    "In this section we describe about PyTorch and tensors, Tensor Manipulations, Data Loading, and GPUs and CUDA Tensors.\n",
    "\n",
    "## Torch Tensor\n",
    "\n",
    "A torch.Tensor is a fundamental data structure in PyTorch, designed to represent a multi-dimensional matrix containing elements of a single data type.\n",
    "\n",
    "Tensors are the backbone of PyTorch and are used extensively for numerical computation and neural network modeling, enabling efficient operations on GPUs."
   ]
  },
  {
   "cell_type": "markdown",
   "metadata": {},
   "source": [
    "### How to create a tensor"
   ]
  },
  {
   "cell_type": "code",
   "execution_count": 1,
   "metadata": {},
   "outputs": [],
   "source": [
    "import numpy as np"
   ]
  },
  {
   "cell_type": "code",
   "execution_count": 2,
   "metadata": {},
   "outputs": [],
   "source": [
    "import torch\n",
    "\n",
    "def TorchTensor(tensorList):\n",
    "    return torch.tensor(tensorList)"
   ]
  },
  {
   "cell_type": "markdown",
   "metadata": {},
   "source": [
    "#### 1. Creating a Tensor from a list of values(1-dimensional)"
   ]
  },
  {
   "cell_type": "code",
   "execution_count": 3,
   "metadata": {},
   "outputs": [],
   "source": [
    "## a Tensor created from a list\n",
    "tensorList = [(np.sqrt(i)+ np.pi)**2 for i in range(0,4)]\n",
    "Tensor = TorchTensor(tensorList)"
   ]
  },
  {
   "cell_type": "code",
   "execution_count": 4,
   "metadata": {},
   "outputs": [
    {
     "name": "stdout",
     "output_type": "stream",
     "text": [
      "The torch tensor createad is:\n",
      "tensor([ 9.8696, 17.1528, 20.7554, 23.7524], dtype=torch.float64)\n"
     ]
    }
   ],
   "source": [
    "print(f\"The torch tensor createad is:\\n{Tensor}\")"
   ]
  },
  {
   "cell_type": "markdown",
   "metadata": {},
   "source": [
    "#### 2. Creating a Tensor from a matrix(multidimensional)"
   ]
  },
  {
   "cell_type": "code",
   "execution_count": 5,
   "metadata": {},
   "outputs": [],
   "source": [
    "tensorList_1 = [(np.sqrt(i)**1+ np.pi)**2 for i in range(0,4)]\n",
    "tensorList_2 = [(np.sqrt(i)**2+ np.pi)**3 for i in range(0,4)]\n",
    "tensorList_3 = [(np.sqrt(i)**3+ np.pi)**4 for i in range(0,4)]\n",
    "MatrixList = np.asarray([tensorList_1,tensorList_2,tensorList_3])"
   ]
  },
  {
   "cell_type": "code",
   "execution_count": 6,
   "metadata": {},
   "outputs": [
    {
     "data": {
      "text/plain": [
       "array([[   9.8696044 ,   17.15278971,   20.75537028,   23.75240059],\n",
       "       [  31.00627668,   71.03986784,  135.92301493,  231.65571794],\n",
       "       [  97.40909103,  294.21819478, 1270.29058633, 4832.75134481]])"
      ]
     },
     "execution_count": 6,
     "metadata": {},
     "output_type": "execute_result"
    }
   ],
   "source": [
    "MatrixList"
   ]
  },
  {
   "cell_type": "code",
   "execution_count": 22,
   "metadata": {},
   "outputs": [],
   "source": [
    "MatrixTensor = TorchTensor(MatrixList)"
   ]
  },
  {
   "cell_type": "code",
   "execution_count": 23,
   "metadata": {},
   "outputs": [
    {
     "name": "stdout",
     "output_type": "stream",
     "text": [
      "The torch tensor createad is:\n",
      "tensor([[   9.8696,   17.1528,   20.7554,   23.7524],\n",
      "        [  31.0063,   71.0399,  135.9230,  231.6557],\n",
      "        [  97.4091,  294.2182, 1270.2906, 4832.7513]], dtype=torch.float64)\n"
     ]
    }
   ],
   "source": [
    "print(f\"The torch tensor createad is:\\n{MatrixTensor}\")"
   ]
  },
  {
   "cell_type": "markdown",
   "metadata": {},
   "source": [
    "### Creating a tensor from a uniform distribution $U([0,1))$\n",
    "\n",
    "The continuous uniform distributions or rectangular distributions are a family of symmetric probability distributions.\n",
    "\n",
    "#### Continuous uniform distribution\n",
    "\n",
    "The distribution is often abbreviated $U(a,b)$ and describes an experiment where there is an arbitrary outcome that lies between $a$ and $b$, which are the minimum and maximum values.\n",
    "\n",
    "#### Probability density function\n",
    "\n",
    "The probability density function of the continuous uniform distribution $U(a,b)$ is\n",
    "\n",
    "$$\n",
    "f(x) = \n",
    "\\begin{cases} \n",
    "\\frac{1}{b-a} & \\text{for } a \\leq x \\leq b, \\\\\n",
    "0 & \\text{for } x < a \\text{ or } x > b.\n",
    "\\end{cases}\n",
    "$$\n",
    "\n",
    "or, in terms of mean and variance, $\\mu$ and $\\sigma^2$, respectivaly, is\n",
    "\n",
    "$$\n",
    "f(x) = \n",
    "\\begin{cases} \n",
    "\\frac{1}{2\\sigma \\sqrt(3)} & \\text{for } -\\sigma \\sqrt(3) \\leq x - \\mu \\leq \\sigma \\sqrt(3), \\\\\n",
    "0 & \\text{ortherwise} .\n",
    "\\end{cases}\n",
    "$$\n",
    "\n",
    "#### Pytorch Method\n",
    "\n",
    "PyTorch has the `.rand()` method to generate the uniform distribution."
   ]
  },
  {
   "cell_type": "code",
   "execution_count": 7,
   "metadata": {},
   "outputs": [],
   "source": [
    "# 3x4 tensor with values from [0, 1)\n",
    "\n",
    "random_tensor = torch.rand(3, 4)\n"
   ]
  },
  {
   "cell_type": "code",
   "execution_count": 31,
   "metadata": {},
   "outputs": [
    {
     "name": "stdout",
     "output_type": "stream",
     "text": [
      "tensor([[0.1986, 0.5969, 0.6137, 0.9575],\n",
      "        [0.6322, 0.1108, 0.3165, 0.1926],\n",
      "        [0.9491, 0.0603, 0.7940, 0.1941]])\n"
     ]
    }
   ],
   "source": [
    "print(random_tensor)"
   ]
  },
  {
   "cell_type": "code",
   "execution_count": 8,
   "metadata": {},
   "outputs": [],
   "source": [
    "# raw x column tensor with values from [a, b)\n",
    "def uniform_distribution(raw, column,a,b):\n",
    "    theta = torch.rand(raw,column)\n",
    "    return a*(1-theta) +b*theta"
   ]
  },
  {
   "cell_type": "code",
   "execution_count": 11,
   "metadata": {},
   "outputs": [],
   "source": [
    "random_tensor_ud = uniform_distribution(raw = 3, column = 4, a = 2, b = 5)"
   ]
  },
  {
   "cell_type": "code",
   "execution_count": 12,
   "metadata": {},
   "outputs": [
    {
     "data": {
      "text/plain": [
       "tensor([[3.4592, 4.9762, 2.5054, 2.5351],\n",
       "        [2.7072, 3.8288, 2.5966, 4.9577],\n",
       "        [4.1707, 3.8777, 2.8984, 2.7822]])"
      ]
     },
     "execution_count": 12,
     "metadata": {},
     "output_type": "execute_result"
    }
   ],
   "source": [
    "random_tensor_ud"
   ]
  },
  {
   "cell_type": "markdown",
   "metadata": {},
   "source": [
    "### Creates a tensor from a normal distribution (Gaussian distribution) \n",
    "### $G(\\sigma = 0, \\text{VAR} = 1)$"
   ]
  },
  {
   "cell_type": "code",
   "execution_count": 26,
   "metadata": {},
   "outputs": [],
   "source": [
    "# 2x5 tensor with values from a normal distribution\n",
    "normal_tensor = torch.randn(2, 5)"
   ]
  },
  {
   "cell_type": "code",
   "execution_count": 27,
   "metadata": {},
   "outputs": [
    {
     "name": "stdout",
     "output_type": "stream",
     "text": [
      "tensor([[-0.9998,  0.1130,  0.4859, -0.5137, -0.3902],\n",
      "        [-2.5123,  0.2540, -0.5982,  1.1695,  1.2314]])\n"
     ]
    }
   ],
   "source": [
    "print(normal_tensor)"
   ]
  }
 ],
 "metadata": {
  "kernelspec": {
   "display_name": "virtual_env",
   "language": "python",
   "name": "python3"
  },
  "language_info": {
   "codemirror_mode": {
    "name": "ipython",
    "version": 3
   },
   "file_extension": ".py",
   "mimetype": "text/x-python",
   "name": "python",
   "nbconvert_exporter": "python",
   "pygments_lexer": "ipython3",
   "version": "3.10.12"
  }
 },
 "nbformat": 4,
 "nbformat_minor": 2
}
