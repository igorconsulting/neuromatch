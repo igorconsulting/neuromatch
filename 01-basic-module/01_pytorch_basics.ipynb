{
 "cells": [
  {
   "cell_type": "markdown",
   "metadata": {},
   "source": [
    "# PyTorch Basics\n",
    "\n",
    "In this section we describe about PyTorch and tensors, Tensor Manipulations, Data Loading, and GPUs and CUDA Tensors.\n",
    "\n",
    "## Torch Tensor\n",
    "\n",
    "A torch.Tensor is a fundamental data structure in PyTorch, designed to represent a multi-dimensional matrix containing elements of a single data type.\n",
    "\n",
    "Tensors are the backbone of PyTorch and are used extensively for numerical computation and neural network modeling, enabling efficient operations on GPUs."
   ]
  },
  {
   "cell_type": "markdown",
   "metadata": {},
   "source": [
    "### How to create a tensor"
   ]
  },
  {
   "cell_type": "code",
   "execution_count": 2,
   "metadata": {},
   "outputs": [],
   "source": [
    "import numpy as np"
   ]
  },
  {
   "cell_type": "code",
   "execution_count": 1,
   "metadata": {},
   "outputs": [],
   "source": [
    "import torch\n",
    "\n",
    "def TorchTensor(tensorList):\n",
    "    return torch.tensor(tensorList)"
   ]
  },
  {
   "cell_type": "markdown",
   "metadata": {},
   "source": [
    "#### 1. Creating a Tensor from a list of values(1-dimensional)"
   ]
  },
  {
   "cell_type": "code",
   "execution_count": 7,
   "metadata": {},
   "outputs": [],
   "source": [
    "## a Tensor created from a list\n",
    "tensorList = [(np.sqrt(i)+ np.pi)**2 for i in range(0,4)]\n",
    "Tensor = TorchTensor(tensorList)"
   ]
  },
  {
   "cell_type": "code",
   "execution_count": 14,
   "metadata": {},
   "outputs": [
    {
     "name": "stdout",
     "output_type": "stream",
     "text": [
      "The torch tensor createad is:\n",
      "tensor([ 9.8696, 17.1528, 20.7554, 23.7524], dtype=torch.float64)\n"
     ]
    }
   ],
   "source": [
    "print(f\"The torch tensor createad is:\\n{Tensor}\")"
   ]
  },
  {
   "cell_type": "markdown",
   "metadata": {},
   "source": [
    "#### 2. Creating a Tensor from a matrix(multidimensional)"
   ]
  },
  {
   "cell_type": "code",
   "execution_count": 20,
   "metadata": {},
   "outputs": [],
   "source": [
    "tensorList_1 = [(np.sqrt(i)**1+ np.pi)**2 for i in range(0,4)]\n",
    "tensorList_2 = [(np.sqrt(i)**2+ np.pi)**3 for i in range(0,4)]\n",
    "tensorList_3 = [(np.sqrt(i)**3+ np.pi)**4 for i in range(0,4)]\n",
    "MatrixList = np.asarray([tensorList_1,tensorList_2,tensorList_3])"
   ]
  },
  {
   "cell_type": "code",
   "execution_count": 21,
   "metadata": {},
   "outputs": [
    {
     "data": {
      "text/plain": [
       "array([[   9.8696044 ,   17.15278971,   20.75537028,   23.75240059],\n",
       "       [  31.00627668,   71.03986784,  135.92301493,  231.65571794],\n",
       "       [  97.40909103,  294.21819478, 1270.29058633, 4832.75134481]])"
      ]
     },
     "execution_count": 21,
     "metadata": {},
     "output_type": "execute_result"
    }
   ],
   "source": [
    "MatrixList"
   ]
  },
  {
   "cell_type": "code",
   "execution_count": 22,
   "metadata": {},
   "outputs": [],
   "source": [
    "MatrixTensor = TorchTensor(MatrixList)"
   ]
  },
  {
   "cell_type": "code",
   "execution_count": 23,
   "metadata": {},
   "outputs": [
    {
     "name": "stdout",
     "output_type": "stream",
     "text": [
      "The torch tensor createad is:\n",
      "tensor([[   9.8696,   17.1528,   20.7554,   23.7524],\n",
      "        [  31.0063,   71.0399,  135.9230,  231.6557],\n",
      "        [  97.4091,  294.2182, 1270.2906, 4832.7513]], dtype=torch.float64)\n"
     ]
    }
   ],
   "source": [
    "print(f\"The torch tensor createad is:\\n{MatrixTensor}\")"
   ]
  }
 ],
 "metadata": {
  "kernelspec": {
   "display_name": "virtual_env",
   "language": "python",
   "name": "python3"
  },
  "language_info": {
   "codemirror_mode": {
    "name": "ipython",
    "version": 3
   },
   "file_extension": ".py",
   "mimetype": "text/x-python",
   "name": "python",
   "nbconvert_exporter": "python",
   "pygments_lexer": "ipython3",
   "version": "3.10.12"
  }
 },
 "nbformat": 4,
 "nbformat_minor": 2
}
