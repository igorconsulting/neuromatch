{
 "cells": [
  {
   "cell_type": "code",
   "execution_count": 1,
   "metadata": {},
   "outputs": [],
   "source": [
    "import numpy as np\n",
    "import torch"
   ]
  },
  {
   "cell_type": "code",
   "execution_count": null,
   "metadata": {},
   "outputs": [],
   "source": [
    "class Perceptron:\n",
    "    def __init__(self) -> None:\n",
    "        self.activationfunction = None\n",
    "        self.diff_activationfunction = None\n",
    "        self.bias = None\n",
    "        self.weights = None\n",
    "    \n",
    "    def set_activation_function(self, name):\n",
    "        if name.lower() == 'relu':\n",
    "            self.activation_function = lambda x: np.maximum(0, x)\n",
    "            self.diff_activation_function = lambda x: np.where(x > 0, 1, 0)\n",
    "        elif name.lower() == 'sigmoid':\n",
    "            self.activation_function = lambda x: 1 / (1 + np.exp(-x))\n",
    "            self.diff_activation_function = lambda x: self.activation_function(x) * (1 - self.activation_function(x))\n",
    "        elif name.lower() == 'tanh':\n",
    "            self.activation_function = lambda x: np.tanh(x)\n",
    "            self.diff_activation_function = lambda x: 1 - np.tanh(x)**2\n",
    "        else:\n",
    "            raise ValueError(\"Unsupported activation function. Choose 'relu', 'sigmoid', or 'tanh'.\")"
   ]
  }
 ],
 "metadata": {
  "kernelspec": {
   "display_name": "virtual_env",
   "language": "python",
   "name": "python3"
  },
  "language_info": {
   "codemirror_mode": {
    "name": "ipython",
    "version": 3
   },
   "file_extension": ".py",
   "mimetype": "text/x-python",
   "name": "python",
   "nbconvert_exporter": "python",
   "pygments_lexer": "ipython3",
   "version": "3.10.12"
  }
 },
 "nbformat": 4,
 "nbformat_minor": 2
}
